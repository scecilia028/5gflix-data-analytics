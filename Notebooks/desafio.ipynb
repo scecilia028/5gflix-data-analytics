{
  "nbformat": 4,
  "nbformat_minor": 0,
  "metadata": {
    "colab": {
      "name": "desafio.ipynb",
      "provenance": [],
      "collapsed_sections": [],
      "authorship_tag": "ABX9TyMIHZcHlxsVQRnP3MEssgcZ",
      "include_colab_link": true
    },
    "kernelspec": {
      "name": "python3",
      "display_name": "Python 3"
    },
    "language_info": {
      "name": "python"
    }
  },
  "cells": [
    {
      "cell_type": "markdown",
      "metadata": {
        "id": "view-in-github",
        "colab_type": "text"
      },
      "source": [
        "<a href=\"https://colab.research.google.com/github/scecilia028/5gflix-data-analytics/blob/main/Notebooks/desafio.ipynb\" target=\"_parent\"><img src=\"https://colab.research.google.com/assets/colab-badge.svg\" alt=\"Open In Colab\"/></a>"
      ]
    },
    {
      "cell_type": "markdown",
      "source": [
        "# **Desafio 5GFlix - Engenharia de Dados - Solvimm**\n",
        "\n",
        "Análise de filmes e séries da Netflix para estratégia de negócio.\n",
        "\n",
        "\n",
        "Etapas do processo para codificação e resolução das respostas:\n",
        "\n",
        "\n",
        "*   ETL\n",
        "*   Resolução em ordem das questões para análise \n",
        "\n",
        "\n"
      ],
      "metadata": {
        "id": "ENIqTkRxDbVH"
      }
    },
    {
      "cell_type": "markdown",
      "source": [
        "### Importação dos datasets"
      ],
      "metadata": {
        "id": "DjWo71WdRu1Q"
      }
    },
    {
      "cell_type": "code",
      "source": [
        "import pandas as pd\n",
        "import csv\n",
        "\n",
        "urlMovies = 'https://raw.githubusercontent.com/scecilia028/5gflix-data-analytics/main/Dados/movies.csv'\n",
        "table_movies = pd.read_csv(urlMovies, sep='[;,]', engine='python', names=('Movie_Id', 'Title', 'YearRelease'))\n",
        "table_movies['Title'] = table_movies['Title'].str[1:]\n",
        "table_movies['YearRelease'] = table_movies['YearRelease'].str[:-1]\n",
        "\n",
        "display(table_movies)\n",
        "\n",
        "#input_movies = open('/content/drive/MyDrive/../movies.csv', 'r')\n",
        "#fix_movies = open('fixmovies.csv', 'w')\n",
        "#csv.register_dialect('dialect',\n",
        "                     #delimiter=';',\n",
        "                     #skipinitialspace=True,\n",
        "                     #quoting=csv.QUOTE_ALL)\n",
        "#movies = csv.reader(input_movies, dialect= 'dialect')\n",
        "#writer = csv.writer(fix_movies,  delimiter=',', quotechar='\"', quoting=csv.QUOTE_MINIMAL) \n",
        " \n",
        "#for row in movies: \n",
        "#  line_film_year = row[1].split(',')\n",
        "#  title = line_film_year[0][1:]\n",
        "#  year = line_film_year[1][:-1]\n",
        "#  writer.writerow([row[0], title, year])\n",
        "\n",
        "#input_movies.close()\n",
        "#fix_movies.close()\n",
        "\n",
        "#table_movies = pd.read_csv('fixmovies.csv', sep =',', names=('Movie_Id', 'Title', 'YearRelease'))\n",
        "#display(table_movies)"
      ],
      "metadata": {
        "colab": {
          "base_uri": "https://localhost:8080/",
          "height": 423
        },
        "id": "DiigJP4-TqNM",
        "outputId": "90bac0e7-ec32-4190-cd7b-a8f946a44172"
      },
      "execution_count": 1,
      "outputs": [
        {
          "output_type": "display_data",
          "data": {
            "text/plain": [
              "      Movie_Id                                           Title YearRelease\n",
              "0            1                                 Dinosaur Planet        2003\n",
              "1            2                      Isle of Man TT 2004 Review        2004\n",
              "2            3                                       Character        1997\n",
              "3            4                    Paula Abdul's Get Up & Dance        1994\n",
              "4            5                        The Rise and Fall of ECW        2004\n",
              "...        ...                                             ...         ...\n",
              "4494      4495  Clifford: Happy Birthday Clifford / Puppy Love        2002\n",
              "4495      4496                           Farewell My Concubine        1993\n",
              "4496      4497                                      Texasville        1990\n",
              "4497      4498                                           Gonin        2000\n",
              "4498      4499                                      In My Skin        2002\n",
              "\n",
              "[4499 rows x 3 columns]"
            ],
            "text/html": [
              "\n",
              "  <div id=\"df-64fe9a40-bc88-4745-96dd-bc76b2c5a5c2\">\n",
              "    <div class=\"colab-df-container\">\n",
              "      <div>\n",
              "<style scoped>\n",
              "    .dataframe tbody tr th:only-of-type {\n",
              "        vertical-align: middle;\n",
              "    }\n",
              "\n",
              "    .dataframe tbody tr th {\n",
              "        vertical-align: top;\n",
              "    }\n",
              "\n",
              "    .dataframe thead th {\n",
              "        text-align: right;\n",
              "    }\n",
              "</style>\n",
              "<table border=\"1\" class=\"dataframe\">\n",
              "  <thead>\n",
              "    <tr style=\"text-align: right;\">\n",
              "      <th></th>\n",
              "      <th>Movie_Id</th>\n",
              "      <th>Title</th>\n",
              "      <th>YearRelease</th>\n",
              "    </tr>\n",
              "  </thead>\n",
              "  <tbody>\n",
              "    <tr>\n",
              "      <th>0</th>\n",
              "      <td>1</td>\n",
              "      <td>Dinosaur Planet</td>\n",
              "      <td>2003</td>\n",
              "    </tr>\n",
              "    <tr>\n",
              "      <th>1</th>\n",
              "      <td>2</td>\n",
              "      <td>Isle of Man TT 2004 Review</td>\n",
              "      <td>2004</td>\n",
              "    </tr>\n",
              "    <tr>\n",
              "      <th>2</th>\n",
              "      <td>3</td>\n",
              "      <td>Character</td>\n",
              "      <td>1997</td>\n",
              "    </tr>\n",
              "    <tr>\n",
              "      <th>3</th>\n",
              "      <td>4</td>\n",
              "      <td>Paula Abdul's Get Up &amp; Dance</td>\n",
              "      <td>1994</td>\n",
              "    </tr>\n",
              "    <tr>\n",
              "      <th>4</th>\n",
              "      <td>5</td>\n",
              "      <td>The Rise and Fall of ECW</td>\n",
              "      <td>2004</td>\n",
              "    </tr>\n",
              "    <tr>\n",
              "      <th>...</th>\n",
              "      <td>...</td>\n",
              "      <td>...</td>\n",
              "      <td>...</td>\n",
              "    </tr>\n",
              "    <tr>\n",
              "      <th>4494</th>\n",
              "      <td>4495</td>\n",
              "      <td>Clifford: Happy Birthday Clifford / Puppy Love</td>\n",
              "      <td>2002</td>\n",
              "    </tr>\n",
              "    <tr>\n",
              "      <th>4495</th>\n",
              "      <td>4496</td>\n",
              "      <td>Farewell My Concubine</td>\n",
              "      <td>1993</td>\n",
              "    </tr>\n",
              "    <tr>\n",
              "      <th>4496</th>\n",
              "      <td>4497</td>\n",
              "      <td>Texasville</td>\n",
              "      <td>1990</td>\n",
              "    </tr>\n",
              "    <tr>\n",
              "      <th>4497</th>\n",
              "      <td>4498</td>\n",
              "      <td>Gonin</td>\n",
              "      <td>2000</td>\n",
              "    </tr>\n",
              "    <tr>\n",
              "      <th>4498</th>\n",
              "      <td>4499</td>\n",
              "      <td>In My Skin</td>\n",
              "      <td>2002</td>\n",
              "    </tr>\n",
              "  </tbody>\n",
              "</table>\n",
              "<p>4499 rows × 3 columns</p>\n",
              "</div>\n",
              "      <button class=\"colab-df-convert\" onclick=\"convertToInteractive('df-64fe9a40-bc88-4745-96dd-bc76b2c5a5c2')\"\n",
              "              title=\"Convert this dataframe to an interactive table.\"\n",
              "              style=\"display:none;\">\n",
              "        \n",
              "  <svg xmlns=\"http://www.w3.org/2000/svg\" height=\"24px\"viewBox=\"0 0 24 24\"\n",
              "       width=\"24px\">\n",
              "    <path d=\"M0 0h24v24H0V0z\" fill=\"none\"/>\n",
              "    <path d=\"M18.56 5.44l.94 2.06.94-2.06 2.06-.94-2.06-.94-.94-2.06-.94 2.06-2.06.94zm-11 1L8.5 8.5l.94-2.06 2.06-.94-2.06-.94L8.5 2.5l-.94 2.06-2.06.94zm10 10l.94 2.06.94-2.06 2.06-.94-2.06-.94-.94-2.06-.94 2.06-2.06.94z\"/><path d=\"M17.41 7.96l-1.37-1.37c-.4-.4-.92-.59-1.43-.59-.52 0-1.04.2-1.43.59L10.3 9.45l-7.72 7.72c-.78.78-.78 2.05 0 2.83L4 21.41c.39.39.9.59 1.41.59.51 0 1.02-.2 1.41-.59l7.78-7.78 2.81-2.81c.8-.78.8-2.07 0-2.86zM5.41 20L4 18.59l7.72-7.72 1.47 1.35L5.41 20z\"/>\n",
              "  </svg>\n",
              "      </button>\n",
              "      \n",
              "  <style>\n",
              "    .colab-df-container {\n",
              "      display:flex;\n",
              "      flex-wrap:wrap;\n",
              "      gap: 12px;\n",
              "    }\n",
              "\n",
              "    .colab-df-convert {\n",
              "      background-color: #E8F0FE;\n",
              "      border: none;\n",
              "      border-radius: 50%;\n",
              "      cursor: pointer;\n",
              "      display: none;\n",
              "      fill: #1967D2;\n",
              "      height: 32px;\n",
              "      padding: 0 0 0 0;\n",
              "      width: 32px;\n",
              "    }\n",
              "\n",
              "    .colab-df-convert:hover {\n",
              "      background-color: #E2EBFA;\n",
              "      box-shadow: 0px 1px 2px rgba(60, 64, 67, 0.3), 0px 1px 3px 1px rgba(60, 64, 67, 0.15);\n",
              "      fill: #174EA6;\n",
              "    }\n",
              "\n",
              "    [theme=dark] .colab-df-convert {\n",
              "      background-color: #3B4455;\n",
              "      fill: #D2E3FC;\n",
              "    }\n",
              "\n",
              "    [theme=dark] .colab-df-convert:hover {\n",
              "      background-color: #434B5C;\n",
              "      box-shadow: 0px 1px 3px 1px rgba(0, 0, 0, 0.15);\n",
              "      filter: drop-shadow(0px 1px 2px rgba(0, 0, 0, 0.3));\n",
              "      fill: #FFFFFF;\n",
              "    }\n",
              "  </style>\n",
              "\n",
              "      <script>\n",
              "        const buttonEl =\n",
              "          document.querySelector('#df-64fe9a40-bc88-4745-96dd-bc76b2c5a5c2 button.colab-df-convert');\n",
              "        buttonEl.style.display =\n",
              "          google.colab.kernel.accessAllowed ? 'block' : 'none';\n",
              "\n",
              "        async function convertToInteractive(key) {\n",
              "          const element = document.querySelector('#df-64fe9a40-bc88-4745-96dd-bc76b2c5a5c2');\n",
              "          const dataTable =\n",
              "            await google.colab.kernel.invokeFunction('convertToInteractive',\n",
              "                                                     [key], {});\n",
              "          if (!dataTable) return;\n",
              "\n",
              "          const docLinkHtml = 'Like what you see? Visit the ' +\n",
              "            '<a target=\"_blank\" href=https://colab.research.google.com/notebooks/data_table.ipynb>data table notebook</a>'\n",
              "            + ' to learn more about interactive tables.';\n",
              "          element.innerHTML = '';\n",
              "          dataTable['output_type'] = 'display_data';\n",
              "          await google.colab.output.renderOutput(dataTable, element);\n",
              "          const docLink = document.createElement('div');\n",
              "          docLink.innerHTML = docLinkHtml;\n",
              "          element.appendChild(docLink);\n",
              "        }\n",
              "      </script>\n",
              "    </div>\n",
              "  </div>\n",
              "  "
            ]
          },
          "metadata": {}
        }
      ]
    },
    {
      "cell_type": "markdown",
      "source": [
        "*Importação do arquivo customers_rating.csv*"
      ],
      "metadata": {
        "id": "HUr065vsTXj9"
      }
    },
    {
      "cell_type": "code",
      "source": [
        "customers_rating = pd.read_csv('customers_rating.csv', delimiter=';')\n",
        "display(customers_rating)"
      ],
      "metadata": {
        "colab": {
          "base_uri": "https://localhost:8080/",
          "height": 362
        },
        "id": "hNP4YSRDTgXO",
        "outputId": "f53124fe-eb05-4903-c91d-afc583c2fee5"
      },
      "execution_count": 2,
      "outputs": [
        {
          "output_type": "error",
          "ename": "FileNotFoundError",
          "evalue": "ignored",
          "traceback": [
            "\u001b[0;31m---------------------------------------------------------------------------\u001b[0m",
            "\u001b[0;31mFileNotFoundError\u001b[0m                         Traceback (most recent call last)",
            "\u001b[0;32m<ipython-input-2-9d06d44df7f4>\u001b[0m in \u001b[0;36m<module>\u001b[0;34m()\u001b[0m\n\u001b[0;32m----> 1\u001b[0;31m \u001b[0mcustomers_rating\u001b[0m \u001b[0;34m=\u001b[0m \u001b[0mpd\u001b[0m\u001b[0;34m.\u001b[0m\u001b[0mread_csv\u001b[0m\u001b[0;34m(\u001b[0m\u001b[0;34m'customers_rating.csv'\u001b[0m\u001b[0;34m,\u001b[0m \u001b[0mdelimiter\u001b[0m\u001b[0;34m=\u001b[0m\u001b[0;34m';'\u001b[0m\u001b[0;34m)\u001b[0m\u001b[0;34m\u001b[0m\u001b[0;34m\u001b[0m\u001b[0m\n\u001b[0m\u001b[1;32m      2\u001b[0m \u001b[0mdisplay\u001b[0m\u001b[0;34m(\u001b[0m\u001b[0mcustomers_rating\u001b[0m\u001b[0;34m)\u001b[0m\u001b[0;34m\u001b[0m\u001b[0;34m\u001b[0m\u001b[0m\n",
            "\u001b[0;32m/usr/local/lib/python3.7/dist-packages/pandas/util/_decorators.py\u001b[0m in \u001b[0;36mwrapper\u001b[0;34m(*args, **kwargs)\u001b[0m\n\u001b[1;32m    309\u001b[0m                     \u001b[0mstacklevel\u001b[0m\u001b[0;34m=\u001b[0m\u001b[0mstacklevel\u001b[0m\u001b[0;34m,\u001b[0m\u001b[0;34m\u001b[0m\u001b[0;34m\u001b[0m\u001b[0m\n\u001b[1;32m    310\u001b[0m                 )\n\u001b[0;32m--> 311\u001b[0;31m             \u001b[0;32mreturn\u001b[0m \u001b[0mfunc\u001b[0m\u001b[0;34m(\u001b[0m\u001b[0;34m*\u001b[0m\u001b[0margs\u001b[0m\u001b[0;34m,\u001b[0m \u001b[0;34m**\u001b[0m\u001b[0mkwargs\u001b[0m\u001b[0;34m)\u001b[0m\u001b[0;34m\u001b[0m\u001b[0;34m\u001b[0m\u001b[0m\n\u001b[0m\u001b[1;32m    312\u001b[0m \u001b[0;34m\u001b[0m\u001b[0m\n\u001b[1;32m    313\u001b[0m         \u001b[0;32mreturn\u001b[0m \u001b[0mwrapper\u001b[0m\u001b[0;34m\u001b[0m\u001b[0;34m\u001b[0m\u001b[0m\n",
            "\u001b[0;32m/usr/local/lib/python3.7/dist-packages/pandas/io/parsers/readers.py\u001b[0m in \u001b[0;36mread_csv\u001b[0;34m(filepath_or_buffer, sep, delimiter, header, names, index_col, usecols, squeeze, prefix, mangle_dupe_cols, dtype, engine, converters, true_values, false_values, skipinitialspace, skiprows, skipfooter, nrows, na_values, keep_default_na, na_filter, verbose, skip_blank_lines, parse_dates, infer_datetime_format, keep_date_col, date_parser, dayfirst, cache_dates, iterator, chunksize, compression, thousands, decimal, lineterminator, quotechar, quoting, doublequote, escapechar, comment, encoding, encoding_errors, dialect, error_bad_lines, warn_bad_lines, on_bad_lines, delim_whitespace, low_memory, memory_map, float_precision, storage_options)\u001b[0m\n\u001b[1;32m    584\u001b[0m     \u001b[0mkwds\u001b[0m\u001b[0;34m.\u001b[0m\u001b[0mupdate\u001b[0m\u001b[0;34m(\u001b[0m\u001b[0mkwds_defaults\u001b[0m\u001b[0;34m)\u001b[0m\u001b[0;34m\u001b[0m\u001b[0;34m\u001b[0m\u001b[0m\n\u001b[1;32m    585\u001b[0m \u001b[0;34m\u001b[0m\u001b[0m\n\u001b[0;32m--> 586\u001b[0;31m     \u001b[0;32mreturn\u001b[0m \u001b[0m_read\u001b[0m\u001b[0;34m(\u001b[0m\u001b[0mfilepath_or_buffer\u001b[0m\u001b[0;34m,\u001b[0m \u001b[0mkwds\u001b[0m\u001b[0;34m)\u001b[0m\u001b[0;34m\u001b[0m\u001b[0;34m\u001b[0m\u001b[0m\n\u001b[0m\u001b[1;32m    587\u001b[0m \u001b[0;34m\u001b[0m\u001b[0m\n\u001b[1;32m    588\u001b[0m \u001b[0;34m\u001b[0m\u001b[0m\n",
            "\u001b[0;32m/usr/local/lib/python3.7/dist-packages/pandas/io/parsers/readers.py\u001b[0m in \u001b[0;36m_read\u001b[0;34m(filepath_or_buffer, kwds)\u001b[0m\n\u001b[1;32m    480\u001b[0m \u001b[0;34m\u001b[0m\u001b[0m\n\u001b[1;32m    481\u001b[0m     \u001b[0;31m# Create the parser.\u001b[0m\u001b[0;34m\u001b[0m\u001b[0;34m\u001b[0m\u001b[0;34m\u001b[0m\u001b[0m\n\u001b[0;32m--> 482\u001b[0;31m     \u001b[0mparser\u001b[0m \u001b[0;34m=\u001b[0m \u001b[0mTextFileReader\u001b[0m\u001b[0;34m(\u001b[0m\u001b[0mfilepath_or_buffer\u001b[0m\u001b[0;34m,\u001b[0m \u001b[0;34m**\u001b[0m\u001b[0mkwds\u001b[0m\u001b[0;34m)\u001b[0m\u001b[0;34m\u001b[0m\u001b[0;34m\u001b[0m\u001b[0m\n\u001b[0m\u001b[1;32m    483\u001b[0m \u001b[0;34m\u001b[0m\u001b[0m\n\u001b[1;32m    484\u001b[0m     \u001b[0;32mif\u001b[0m \u001b[0mchunksize\u001b[0m \u001b[0;32mor\u001b[0m \u001b[0miterator\u001b[0m\u001b[0;34m:\u001b[0m\u001b[0;34m\u001b[0m\u001b[0;34m\u001b[0m\u001b[0m\n",
            "\u001b[0;32m/usr/local/lib/python3.7/dist-packages/pandas/io/parsers/readers.py\u001b[0m in \u001b[0;36m__init__\u001b[0;34m(self, f, engine, **kwds)\u001b[0m\n\u001b[1;32m    809\u001b[0m             \u001b[0mself\u001b[0m\u001b[0;34m.\u001b[0m\u001b[0moptions\u001b[0m\u001b[0;34m[\u001b[0m\u001b[0;34m\"has_index_names\"\u001b[0m\u001b[0;34m]\u001b[0m \u001b[0;34m=\u001b[0m \u001b[0mkwds\u001b[0m\u001b[0;34m[\u001b[0m\u001b[0;34m\"has_index_names\"\u001b[0m\u001b[0;34m]\u001b[0m\u001b[0;34m\u001b[0m\u001b[0;34m\u001b[0m\u001b[0m\n\u001b[1;32m    810\u001b[0m \u001b[0;34m\u001b[0m\u001b[0m\n\u001b[0;32m--> 811\u001b[0;31m         \u001b[0mself\u001b[0m\u001b[0;34m.\u001b[0m\u001b[0m_engine\u001b[0m \u001b[0;34m=\u001b[0m \u001b[0mself\u001b[0m\u001b[0;34m.\u001b[0m\u001b[0m_make_engine\u001b[0m\u001b[0;34m(\u001b[0m\u001b[0mself\u001b[0m\u001b[0;34m.\u001b[0m\u001b[0mengine\u001b[0m\u001b[0;34m)\u001b[0m\u001b[0;34m\u001b[0m\u001b[0;34m\u001b[0m\u001b[0m\n\u001b[0m\u001b[1;32m    812\u001b[0m \u001b[0;34m\u001b[0m\u001b[0m\n\u001b[1;32m    813\u001b[0m     \u001b[0;32mdef\u001b[0m \u001b[0mclose\u001b[0m\u001b[0;34m(\u001b[0m\u001b[0mself\u001b[0m\u001b[0;34m)\u001b[0m\u001b[0;34m:\u001b[0m\u001b[0;34m\u001b[0m\u001b[0;34m\u001b[0m\u001b[0m\n",
            "\u001b[0;32m/usr/local/lib/python3.7/dist-packages/pandas/io/parsers/readers.py\u001b[0m in \u001b[0;36m_make_engine\u001b[0;34m(self, engine)\u001b[0m\n\u001b[1;32m   1038\u001b[0m             )\n\u001b[1;32m   1039\u001b[0m         \u001b[0;31m# error: Too many arguments for \"ParserBase\"\u001b[0m\u001b[0;34m\u001b[0m\u001b[0;34m\u001b[0m\u001b[0;34m\u001b[0m\u001b[0m\n\u001b[0;32m-> 1040\u001b[0;31m         \u001b[0;32mreturn\u001b[0m \u001b[0mmapping\u001b[0m\u001b[0;34m[\u001b[0m\u001b[0mengine\u001b[0m\u001b[0;34m]\u001b[0m\u001b[0;34m(\u001b[0m\u001b[0mself\u001b[0m\u001b[0;34m.\u001b[0m\u001b[0mf\u001b[0m\u001b[0;34m,\u001b[0m \u001b[0;34m**\u001b[0m\u001b[0mself\u001b[0m\u001b[0;34m.\u001b[0m\u001b[0moptions\u001b[0m\u001b[0;34m)\u001b[0m  \u001b[0;31m# type: ignore[call-arg]\u001b[0m\u001b[0;34m\u001b[0m\u001b[0;34m\u001b[0m\u001b[0m\n\u001b[0m\u001b[1;32m   1041\u001b[0m \u001b[0;34m\u001b[0m\u001b[0m\n\u001b[1;32m   1042\u001b[0m     \u001b[0;32mdef\u001b[0m \u001b[0m_failover_to_python\u001b[0m\u001b[0;34m(\u001b[0m\u001b[0mself\u001b[0m\u001b[0;34m)\u001b[0m\u001b[0;34m:\u001b[0m\u001b[0;34m\u001b[0m\u001b[0;34m\u001b[0m\u001b[0m\n",
            "\u001b[0;32m/usr/local/lib/python3.7/dist-packages/pandas/io/parsers/c_parser_wrapper.py\u001b[0m in \u001b[0;36m__init__\u001b[0;34m(self, src, **kwds)\u001b[0m\n\u001b[1;32m     49\u001b[0m \u001b[0;34m\u001b[0m\u001b[0m\n\u001b[1;32m     50\u001b[0m         \u001b[0;31m# open handles\u001b[0m\u001b[0;34m\u001b[0m\u001b[0;34m\u001b[0m\u001b[0;34m\u001b[0m\u001b[0m\n\u001b[0;32m---> 51\u001b[0;31m         \u001b[0mself\u001b[0m\u001b[0;34m.\u001b[0m\u001b[0m_open_handles\u001b[0m\u001b[0;34m(\u001b[0m\u001b[0msrc\u001b[0m\u001b[0;34m,\u001b[0m \u001b[0mkwds\u001b[0m\u001b[0;34m)\u001b[0m\u001b[0;34m\u001b[0m\u001b[0;34m\u001b[0m\u001b[0m\n\u001b[0m\u001b[1;32m     52\u001b[0m         \u001b[0;32massert\u001b[0m \u001b[0mself\u001b[0m\u001b[0;34m.\u001b[0m\u001b[0mhandles\u001b[0m \u001b[0;32mis\u001b[0m \u001b[0;32mnot\u001b[0m \u001b[0;32mNone\u001b[0m\u001b[0;34m\u001b[0m\u001b[0;34m\u001b[0m\u001b[0m\n\u001b[1;32m     53\u001b[0m \u001b[0;34m\u001b[0m\u001b[0m\n",
            "\u001b[0;32m/usr/local/lib/python3.7/dist-packages/pandas/io/parsers/base_parser.py\u001b[0m in \u001b[0;36m_open_handles\u001b[0;34m(self, src, kwds)\u001b[0m\n\u001b[1;32m    227\u001b[0m             \u001b[0mmemory_map\u001b[0m\u001b[0;34m=\u001b[0m\u001b[0mkwds\u001b[0m\u001b[0;34m.\u001b[0m\u001b[0mget\u001b[0m\u001b[0;34m(\u001b[0m\u001b[0;34m\"memory_map\"\u001b[0m\u001b[0;34m,\u001b[0m \u001b[0;32mFalse\u001b[0m\u001b[0;34m)\u001b[0m\u001b[0;34m,\u001b[0m\u001b[0;34m\u001b[0m\u001b[0;34m\u001b[0m\u001b[0m\n\u001b[1;32m    228\u001b[0m             \u001b[0mstorage_options\u001b[0m\u001b[0;34m=\u001b[0m\u001b[0mkwds\u001b[0m\u001b[0;34m.\u001b[0m\u001b[0mget\u001b[0m\u001b[0;34m(\u001b[0m\u001b[0;34m\"storage_options\"\u001b[0m\u001b[0;34m,\u001b[0m \u001b[0;32mNone\u001b[0m\u001b[0;34m)\u001b[0m\u001b[0;34m,\u001b[0m\u001b[0;34m\u001b[0m\u001b[0;34m\u001b[0m\u001b[0m\n\u001b[0;32m--> 229\u001b[0;31m             \u001b[0merrors\u001b[0m\u001b[0;34m=\u001b[0m\u001b[0mkwds\u001b[0m\u001b[0;34m.\u001b[0m\u001b[0mget\u001b[0m\u001b[0;34m(\u001b[0m\u001b[0;34m\"encoding_errors\"\u001b[0m\u001b[0;34m,\u001b[0m \u001b[0;34m\"strict\"\u001b[0m\u001b[0;34m)\u001b[0m\u001b[0;34m,\u001b[0m\u001b[0;34m\u001b[0m\u001b[0;34m\u001b[0m\u001b[0m\n\u001b[0m\u001b[1;32m    230\u001b[0m         )\n\u001b[1;32m    231\u001b[0m \u001b[0;34m\u001b[0m\u001b[0m\n",
            "\u001b[0;32m/usr/local/lib/python3.7/dist-packages/pandas/io/common.py\u001b[0m in \u001b[0;36mget_handle\u001b[0;34m(path_or_buf, mode, encoding, compression, memory_map, is_text, errors, storage_options)\u001b[0m\n\u001b[1;32m    705\u001b[0m                 \u001b[0mencoding\u001b[0m\u001b[0;34m=\u001b[0m\u001b[0mioargs\u001b[0m\u001b[0;34m.\u001b[0m\u001b[0mencoding\u001b[0m\u001b[0;34m,\u001b[0m\u001b[0;34m\u001b[0m\u001b[0;34m\u001b[0m\u001b[0m\n\u001b[1;32m    706\u001b[0m                 \u001b[0merrors\u001b[0m\u001b[0;34m=\u001b[0m\u001b[0merrors\u001b[0m\u001b[0;34m,\u001b[0m\u001b[0;34m\u001b[0m\u001b[0;34m\u001b[0m\u001b[0m\n\u001b[0;32m--> 707\u001b[0;31m                 \u001b[0mnewline\u001b[0m\u001b[0;34m=\u001b[0m\u001b[0;34m\"\"\u001b[0m\u001b[0;34m,\u001b[0m\u001b[0;34m\u001b[0m\u001b[0;34m\u001b[0m\u001b[0m\n\u001b[0m\u001b[1;32m    708\u001b[0m             )\n\u001b[1;32m    709\u001b[0m         \u001b[0;32melse\u001b[0m\u001b[0;34m:\u001b[0m\u001b[0;34m\u001b[0m\u001b[0;34m\u001b[0m\u001b[0m\n",
            "\u001b[0;31mFileNotFoundError\u001b[0m: [Errno 2] No such file or directory: 'customers_rating.csv'"
          ]
        }
      ]
    },
    {
      "cell_type": "markdown",
      "source": [
        "### Limpeza dos dados\n",
        "*Limpeza de dados duplicados e incompletos.*"
      ],
      "metadata": {
        "id": "rCEXFpvhJn0a"
      }
    },
    {
      "cell_type": "code",
      "source": [
        "#deletando linhas com pelo menos 1 valor NaN\n",
        "table_movies = table_movies.dropna()\n",
        "customers_rating = customers_rating.dropna()\n",
        "\n",
        "#deletando dados com titulos de filmes replicados\n",
        "moviesRp = table_movies.groupby('Title')['YearRelease'].value_counts().sort_values(ascending=False)\n",
        "display(moviesRp)\n",
        "#'Prova' - o filme 'Dr. Quinn' tem dois lançamentos em 1993\n",
        "#movie_Quinn = table_movies.loc[table_movies['Title'] == 'Dr. Quinn']\n",
        "#display(movie_Quinn)\n",
        "\n",
        "table_movies = table_movies.drop_duplicates(subset =['Title','YearRelease'], keep='first')\n",
        "customers_rating = customers_rating.drop_duplicates(keep='first')\n",
        "#merge com ambas tabelas\n",
        "tb_movie_rating = pd.merge(table_movies, customers_rating, how = 'outer')"
      ],
      "metadata": {
        "id": "q_lZVpkIJsdp",
        "colab": {
          "base_uri": "https://localhost:8080/",
          "height": 257
        },
        "outputId": "fa75819f-f468-4130-de68-ccdbb172a67d"
      },
      "execution_count": 199,
      "outputs": [
        {
          "output_type": "display_data",
          "data": {
            "text/plain": [
              "Title                                                               YearRelease\n",
              "'N Sync: 'N the Mix                                                  1999          1\n",
              "Shaka Zulu                                                           1986          1\n",
              "Shakespeare Wallah                                                   1965          1\n",
              "Shakespeare Tragedies: Titus/ Romeo/ Hamlet: The Standard Deviants   2000          1\n",
              "Shakespeare Tragedies: Othello                                       1981          1\n",
              "                                                                                  ..\n",
              "Harold and Kumar Go to White Castle                                  2004          1\n",
              "Harper Valley P.T.A.                                                 1978          1\n",
              "Harrison's Flowers                                                   2002          1\n",
              "Harry Potter and the Prisoner of Azkaban: Bonus Material             2004          1\n",
              "s-Cry-ed                                                             2003          1\n",
              "Name: YearRelease, Length: 4498, dtype: int64"
            ]
          },
          "metadata": {}
        }
      ]
    },
    {
      "cell_type": "markdown",
      "source": [
        "# Resolução das questões \n",
        " \n",
        " *Questão 1.1 - Quantidade de filmes disponíveis no DataSet*"
      ],
      "metadata": {
        "id": "3MS_1hvxUa5Z"
      }
    },
    {
      "cell_type": "code",
      "source": [
        "#mais rapido\n",
        "print(len(table_movies))\n",
        "#modo mais lento, porém mais viável se houvesse NaN\n",
        "print(table_movies[table_movies.columns[0]].count())\n"
      ],
      "metadata": {
        "colab": {
          "base_uri": "https://localhost:8080/"
        },
        "id": "skDemLRgUqED",
        "outputId": "891a8522-5a55-4da8-bcb6-2cf1f022b461"
      },
      "execution_count": 5,
      "outputs": [
        {
          "output_type": "stream",
          "name": "stdout",
          "text": [
            "4499\n",
            "4499\n"
          ]
        }
      ]
    },
    {
      "cell_type": "markdown",
      "source": [
        "*Questão 1.2 - nome dos 5 filmes com melhor média de avaliação*"
      ],
      "metadata": {
        "id": "6mmMqJhBWbqZ"
      }
    },
    {
      "cell_type": "code",
      "source": [
        "top5_rating = tb_movie_rating.groupby(['Title'])['Rating'].agg(['mean']).sort_values(by='mean', ascending=False).head(5)\n",
        "display(top5_rating)"
      ],
      "metadata": {
        "colab": {
          "base_uri": "https://localhost:8080/",
          "height": 237
        },
        "id": "rw83HJz8WoIR",
        "outputId": "8c2001b6-1bdd-4cec-ce6c-43c0275b9251"
      },
      "execution_count": 6,
      "outputs": [
        {
          "output_type": "display_data",
          "data": {
            "text/plain": [
              "                                                        mean\n",
              "Title                                                       \n",
              "Lost: Season 1                                      4.670989\n",
              "Ghost in the Shell: Stand Alone Complex: 2nd Gig    4.586364\n",
              "The Simpsons: Season 6                              4.581296\n",
              "Inu-Yasha                                           4.554434\n",
              "Lord of the Rings: The Return of the King: Exte...  4.552000"
            ],
            "text/html": [
              "\n",
              "  <div id=\"df-15aefd9c-a936-455d-9753-c13b53d6e2e8\">\n",
              "    <div class=\"colab-df-container\">\n",
              "      <div>\n",
              "<style scoped>\n",
              "    .dataframe tbody tr th:only-of-type {\n",
              "        vertical-align: middle;\n",
              "    }\n",
              "\n",
              "    .dataframe tbody tr th {\n",
              "        vertical-align: top;\n",
              "    }\n",
              "\n",
              "    .dataframe thead th {\n",
              "        text-align: right;\n",
              "    }\n",
              "</style>\n",
              "<table border=\"1\" class=\"dataframe\">\n",
              "  <thead>\n",
              "    <tr style=\"text-align: right;\">\n",
              "      <th></th>\n",
              "      <th>mean</th>\n",
              "    </tr>\n",
              "    <tr>\n",
              "      <th>Title</th>\n",
              "      <th></th>\n",
              "    </tr>\n",
              "  </thead>\n",
              "  <tbody>\n",
              "    <tr>\n",
              "      <th>Lost: Season 1</th>\n",
              "      <td>4.670989</td>\n",
              "    </tr>\n",
              "    <tr>\n",
              "      <th>Ghost in the Shell: Stand Alone Complex: 2nd Gig</th>\n",
              "      <td>4.586364</td>\n",
              "    </tr>\n",
              "    <tr>\n",
              "      <th>The Simpsons: Season 6</th>\n",
              "      <td>4.581296</td>\n",
              "    </tr>\n",
              "    <tr>\n",
              "      <th>Inu-Yasha</th>\n",
              "      <td>4.554434</td>\n",
              "    </tr>\n",
              "    <tr>\n",
              "      <th>Lord of the Rings: The Return of the King: Extended Edition: Bonus Material</th>\n",
              "      <td>4.552000</td>\n",
              "    </tr>\n",
              "  </tbody>\n",
              "</table>\n",
              "</div>\n",
              "      <button class=\"colab-df-convert\" onclick=\"convertToInteractive('df-15aefd9c-a936-455d-9753-c13b53d6e2e8')\"\n",
              "              title=\"Convert this dataframe to an interactive table.\"\n",
              "              style=\"display:none;\">\n",
              "        \n",
              "  <svg xmlns=\"http://www.w3.org/2000/svg\" height=\"24px\"viewBox=\"0 0 24 24\"\n",
              "       width=\"24px\">\n",
              "    <path d=\"M0 0h24v24H0V0z\" fill=\"none\"/>\n",
              "    <path d=\"M18.56 5.44l.94 2.06.94-2.06 2.06-.94-2.06-.94-.94-2.06-.94 2.06-2.06.94zm-11 1L8.5 8.5l.94-2.06 2.06-.94-2.06-.94L8.5 2.5l-.94 2.06-2.06.94zm10 10l.94 2.06.94-2.06 2.06-.94-2.06-.94-.94-2.06-.94 2.06-2.06.94z\"/><path d=\"M17.41 7.96l-1.37-1.37c-.4-.4-.92-.59-1.43-.59-.52 0-1.04.2-1.43.59L10.3 9.45l-7.72 7.72c-.78.78-.78 2.05 0 2.83L4 21.41c.39.39.9.59 1.41.59.51 0 1.02-.2 1.41-.59l7.78-7.78 2.81-2.81c.8-.78.8-2.07 0-2.86zM5.41 20L4 18.59l7.72-7.72 1.47 1.35L5.41 20z\"/>\n",
              "  </svg>\n",
              "      </button>\n",
              "      \n",
              "  <style>\n",
              "    .colab-df-container {\n",
              "      display:flex;\n",
              "      flex-wrap:wrap;\n",
              "      gap: 12px;\n",
              "    }\n",
              "\n",
              "    .colab-df-convert {\n",
              "      background-color: #E8F0FE;\n",
              "      border: none;\n",
              "      border-radius: 50%;\n",
              "      cursor: pointer;\n",
              "      display: none;\n",
              "      fill: #1967D2;\n",
              "      height: 32px;\n",
              "      padding: 0 0 0 0;\n",
              "      width: 32px;\n",
              "    }\n",
              "\n",
              "    .colab-df-convert:hover {\n",
              "      background-color: #E2EBFA;\n",
              "      box-shadow: 0px 1px 2px rgba(60, 64, 67, 0.3), 0px 1px 3px 1px rgba(60, 64, 67, 0.15);\n",
              "      fill: #174EA6;\n",
              "    }\n",
              "\n",
              "    [theme=dark] .colab-df-convert {\n",
              "      background-color: #3B4455;\n",
              "      fill: #D2E3FC;\n",
              "    }\n",
              "\n",
              "    [theme=dark] .colab-df-convert:hover {\n",
              "      background-color: #434B5C;\n",
              "      box-shadow: 0px 1px 3px 1px rgba(0, 0, 0, 0.15);\n",
              "      filter: drop-shadow(0px 1px 2px rgba(0, 0, 0, 0.3));\n",
              "      fill: #FFFFFF;\n",
              "    }\n",
              "  </style>\n",
              "\n",
              "      <script>\n",
              "        const buttonEl =\n",
              "          document.querySelector('#df-15aefd9c-a936-455d-9753-c13b53d6e2e8 button.colab-df-convert');\n",
              "        buttonEl.style.display =\n",
              "          google.colab.kernel.accessAllowed ? 'block' : 'none';\n",
              "\n",
              "        async function convertToInteractive(key) {\n",
              "          const element = document.querySelector('#df-15aefd9c-a936-455d-9753-c13b53d6e2e8');\n",
              "          const dataTable =\n",
              "            await google.colab.kernel.invokeFunction('convertToInteractive',\n",
              "                                                     [key], {});\n",
              "          if (!dataTable) return;\n",
              "\n",
              "          const docLinkHtml = 'Like what you see? Visit the ' +\n",
              "            '<a target=\"_blank\" href=https://colab.research.google.com/notebooks/data_table.ipynb>data table notebook</a>'\n",
              "            + ' to learn more about interactive tables.';\n",
              "          element.innerHTML = '';\n",
              "          dataTable['output_type'] = 'display_data';\n",
              "          await google.colab.output.renderOutput(dataTable, element);\n",
              "          const docLink = document.createElement('div');\n",
              "          docLink.innerHTML = docLinkHtml;\n",
              "          element.appendChild(docLink);\n",
              "        }\n",
              "      </script>\n",
              "    </div>\n",
              "  </div>\n",
              "  "
            ]
          },
          "metadata": {}
        }
      ]
    },
    {
      "cell_type": "markdown",
      "source": [
        "*Questão 1.3 - 5 anos com menos lançamentos de filmes*"
      ],
      "metadata": {
        "id": "YLsPbn21aZiR"
      }
    },
    {
      "cell_type": "code",
      "source": [
        "#por ordem de lançamento\n",
        "top5_lessYearRelease = table_movies['YearRelease'].sort_values(ascending=True).value_counts(sort=False).sort_values(ascending=True).head(5)\n",
        "display(top5_lessYearRelease)\n"
      ],
      "metadata": {
        "colab": {
          "base_uri": "https://localhost:8080/",
          "height": 128
        },
        "id": "g4sZwbFZakQ4",
        "outputId": "ea668df6-aa82-4ccd-a5da-aad425dd66f4"
      },
      "execution_count": 7,
      "outputs": [
        {
          "output_type": "display_data",
          "data": {
            "text/plain": [
              "1915    1\n",
              "1917    1\n",
              "1922    1\n",
              "1926    1\n",
              "1916    2\n",
              "Name: YearRelease, dtype: int64"
            ]
          },
          "metadata": {}
        }
      ]
    },
    {
      "cell_type": "markdown",
      "source": [
        "*Questão 1.4 - filmes que possuem avaliação maior ou igual a 4.7, considerando apenas os filmes avaliados na última data de avaliação do dataset*\n"
      ],
      "metadata": {
        "id": "BEWhZ1PwpHL2"
      }
    },
    {
      "cell_type": "code",
      "source": [
        "#pensamento lógico: existem varias avaliacoes para o mesmo filme na mesma data, então, usei media\n",
        "\n",
        "#%%timeit\n",
        "#lastDate = tb_movie_rating['Date'].sort_values(ascending=True).loc[1]\n",
        "#1 loop, best of 5: 53 s per loop\n",
        "\n",
        "#%%timeit\n",
        "lastDate = tb_movie_rating['Date'].max(skipna = True)\n",
        "#1 loop, best of 5: 1.72 s per loop\n",
        "\n",
        "#ultima data é 2005-12-31\n",
        "tb_moviesRLD = tb_movie_rating.loc[(tb_movie_rating['Date'] == lastDate)]\n",
        "tb_meanRatingLastDate = tb_moviesRLD.groupby('Title')['Rating'].mean()\n",
        "tb_moviesRatingLastDate = tb_meanRatingLastDate.loc[(tb_meanRatingLastDate >= 4.7)]\n",
        "tb_moviesRatingLastDate.index.tolist()\n",
        "\n",
        " "
      ],
      "metadata": {
        "colab": {
          "base_uri": "https://localhost:8080/"
        },
        "id": "_C2ynOBvSaDQ",
        "outputId": "35c18f4b-9b41-48a7-fb99-1141c32adaf4"
      },
      "execution_count": 116,
      "outputs": [
        {
          "output_type": "execute_result",
          "data": {
            "text/plain": [
              "['2002 Olympic Figure Skating Competition',\n",
              " 'A Better Tomorrow II',\n",
              " 'A Far Off Place',\n",
              " 'A Night at the Opera',\n",
              " 'Absolutely Fabulous: Series 2',\n",
              " 'Ah! My Goddess: The Movie',\n",
              " 'Alias: Season 1',\n",
              " 'American Gothic: The Complete Series',\n",
              " 'American Ninja',\n",
              " 'An Evening With Kevin Smith',\n",
              " 'Angel: Season 4',\n",
              " 'Another You',\n",
              " 'Armed and Dangerous',\n",
              " 'Attack of the Killer Tomatoes',\n",
              " 'Baby Einstein: Baby Monet: Discovering the Seasons',\n",
              " 'Baby Neptune: Discovering Water',\n",
              " 'Babylon 5: Season 4',\n",
              " \"Backyardigans: It's Great to Be a Ghost\",\n",
              " 'Batman the Animated Series: Vol. 3',\n",
              " 'Batman: Mask of the Phantasm',\n",
              " 'Batman: The Animated Series: Tales of the Dark Knight',\n",
              " 'Bear Cub',\n",
              " 'Beau Travail',\n",
              " 'Benny Hill: Golden Classics',\n",
              " 'Beyonce: Live at Wembley',\n",
              " 'Bjork: Cambridge',\n",
              " 'Bjork: Shepherds Bush Empire',\n",
              " 'Bjork: The Inner or Deep Part of an Animal or Plant Structure',\n",
              " 'Bob the Builder: Teamwork',\n",
              " 'Boy Meets World: Season 1',\n",
              " 'Bringing Up Baby',\n",
              " 'Charlie Chan: The Shanghai Cobra',\n",
              " 'Charly',\n",
              " 'Cinderella II',\n",
              " 'Clockers',\n",
              " 'Coupling: Season 1',\n",
              " 'Cowboy Bebop Remix',\n",
              " 'Crimson Rivers 2: Angels of the Apocalypse',\n",
              " 'Critters',\n",
              " 'Cry Freedom',\n",
              " 'Curb Your Enthusiasm: Season 3',\n",
              " 'David Blaine: Fearless',\n",
              " 'Dead Can Dance: Toward the Within',\n",
              " \"Dead Men Don't Wear Plaid\",\n",
              " 'Dial M for Murder',\n",
              " 'Dinotopia',\n",
              " 'Disney Princess Stories: Vol. 3: Beauty Shines from Within',\n",
              " 'Doctor Who: Lost in Time: The Patrick Troughton Years',\n",
              " 'Dodge City',\n",
              " 'Drunken Master',\n",
              " 'Earth 2: The Complete Series',\n",
              " 'Elvira',\n",
              " 'Emmanuelle in Hong Kong',\n",
              " 'Emmanuelle in Rio',\n",
              " 'Evelyn',\n",
              " 'Exodus',\n",
              " 'Extreme Justice',\n",
              " \"Family Guy: Freakin' Sweet Collection\",\n",
              " 'For Keeps',\n",
              " 'Forbidden Zone',\n",
              " \"Foyle's War: Set 2\",\n",
              " 'Frank Lloyd Wright',\n",
              " 'Futurama: Monster Robot Maniac Fun Collection',\n",
              " 'Garfield and Friends: Vol. 2',\n",
              " 'Get Backers',\n",
              " 'Ghost in the Shell: Stand Alone Complex: 2nd Gig',\n",
              " 'Ghosts of Rwanda: Frontline',\n",
              " 'Gilmore Girls: Season 3',\n",
              " 'Hard',\n",
              " 'Hard Boiled',\n",
              " 'Heart Condition',\n",
              " 'Homicide: Life on the Street: Season 7',\n",
              " 'Horror of Dracula',\n",
              " 'In the Mood for Love',\n",
              " 'Jade',\n",
              " \"King's Ransom\",\n",
              " \"L'Eclisse\",\n",
              " 'La Promesse',\n",
              " 'Law & Order: Special Victims Unit: The First Year',\n",
              " 'Le Cercle Rouge',\n",
              " 'Les Miserables in Concert',\n",
              " \"Little House on the Prairie: I'll Be Waving as You Drive Away\",\n",
              " 'Little House on the Prairie: Season 2',\n",
              " 'Lost Universe',\n",
              " 'Lost: Season 1',\n",
              " 'MASH: Season 7',\n",
              " 'Magnum P.I.: Season 2',\n",
              " 'Mail Call: The Best of Season 1',\n",
              " 'Mansfield Park',\n",
              " 'Mars Attacks!',\n",
              " 'Meet John Doe',\n",
              " 'Meet the Browns',\n",
              " 'Mitch Hedberg: Mitch All Together',\n",
              " 'Modern Times',\n",
              " 'Mojados: Through the Night',\n",
              " 'Monkey Shines',\n",
              " 'Monkey Trouble',\n",
              " 'More Barney Songs',\n",
              " 'My Neighbor Totoro',\n",
              " 'Mysterious Island',\n",
              " 'Mystery Science Theater 3000: Red Zone Cuba',\n",
              " 'NHL Stanley Cup 2003',\n",
              " 'NYPD Blue: Season 2',\n",
              " 'Neon Genesis Evangelion: The End of Evangelion',\n",
              " 'Nightbreed',\n",
              " 'No Doubt: Rock Steady Live',\n",
              " 'Noir',\n",
              " 'Now and Then',\n",
              " 'On Any Sunday',\n",
              " 'On a Clear Day You Can See Forever',\n",
              " 'Onmyoji',\n",
              " \"Pete's Dragon\",\n",
              " 'Please Teacher!',\n",
              " 'Ranma 1/2: Ranma Forever: Vol. 8: Someday',\n",
              " 'Red Dwarf: Series 3',\n",
              " 'Repo Man',\n",
              " 'Road to Singapore',\n",
              " 'Rocky V',\n",
              " 'SCTV Network 90: Vol. 2',\n",
              " 'Saturday Night Live: The Best of Jon Lovitz',\n",
              " 'Scorched',\n",
              " 'Screamers',\n",
              " 'Sense and Sensibility',\n",
              " \"Sharpe 10: Sharpe's Siege\",\n",
              " 'Six Feet Under: Season 4',\n",
              " 'Sliders: Season 3',\n",
              " 'Soul Food: Season 1',\n",
              " 'Spider Baby',\n",
              " 'Spirited Away',\n",
              " 'SpongeBob SquarePants: Season 3',\n",
              " 'Spun',\n",
              " 'Star Trek: The Next Generation: Season 7',\n",
              " 'Stargate SG-1: Season 2',\n",
              " 'Stargate SG-1: Season 7',\n",
              " 'Stargate SG-1: Season 8',\n",
              " 'Superman the Animated Series: A Little Piece of Home',\n",
              " 'Tae Guk Gi: The Brotherhood of War',\n",
              " 'Tales of the City',\n",
              " 'Teen Titans: Season 1',\n",
              " \"That '70s Show: Season 1\",\n",
              " \"The Andy Griffith Show: Vol 3: Andy Discovers America / Andy's English Valet\",\n",
              " 'The Anna Nicole Show: Season 1',\n",
              " 'The Best of Abbott & Costello: Vol. 1',\n",
              " 'The Big Blue',\n",
              " 'The Flintstones: Season 2',\n",
              " 'The Flintstones: Season 3',\n",
              " 'The Great Gatsby',\n",
              " 'The Guyver 2: Dark Hero',\n",
              " 'The High and the Mighty',\n",
              " 'The Hustler',\n",
              " 'The Kentuckian',\n",
              " 'The Kids in the Hall: Season 1',\n",
              " 'The Legend',\n",
              " 'The Lower Depths (Les Bas-fonds)',\n",
              " 'The Man Who Copied',\n",
              " 'The Night of the Hunter',\n",
              " 'The Outer Limits: The New Series: Aliens Among Us',\n",
              " 'The Poseidon Adventure',\n",
              " 'The Quest',\n",
              " 'The Return of the King',\n",
              " 'The Simpsons: Bart Wars',\n",
              " 'The Three Musketeers',\n",
              " 'The Three Stooges: Sing a Song of Six Pants',\n",
              " 'The Three Stooges: Three Smart Saps',\n",
              " 'The Three Stooges: Three Stooges in History',\n",
              " 'The Twilight Zone: Vol. 12',\n",
              " 'The Twilight Zone: Vol. 15',\n",
              " 'The Twilight Zone: Vol. 16',\n",
              " 'The Twilight Zone: Vol. 3',\n",
              " 'The Twilight Zone: Vol. 33',\n",
              " 'The Twilight Zone: Vol. 36',\n",
              " 'The Twilight Zone: Vol. 37',\n",
              " 'The Twilight Zone: Vol. 41',\n",
              " 'The Twilight Zone: Vol. 42',\n",
              " 'The Unforgiven',\n",
              " 'The Weather Underground',\n",
              " 'The West Wing: Season 3',\n",
              " 'The Young Lions',\n",
              " 'Thin Line Between Love & Hate',\n",
              " 'This Property Is Condemned',\n",
              " 'Too Close for Comfort: Season 1',\n",
              " 'Transformers: Season 3: Part 1',\n",
              " 'U2: Go Home: Live From Slane Castle',\n",
              " 'Undercover Blues',\n",
              " 'Unforgettable',\n",
              " 'V: The Complete TV Series',\n",
              " 'Very Best of Cher: The Video Hits Collection',\n",
              " \"Von Ryan's Express\",\n",
              " 'Winnie the Pooh: Springtime with Roo',\n",
              " 'Without a Trace',\n",
              " 'Wonderfalls: The Complete Series',\n",
              " 'Xena: Warrior Princess: Season 3']"
            ]
          },
          "metadata": {},
          "execution_count": 116
        }
      ]
    },
    {
      "cell_type": "markdown",
      "source": [
        "*Questão 1.5 - Dos filmes encontrados na questão anterior, quais são os 10 filmes com as piores notas e\n",
        "quais as notas*"
      ],
      "metadata": {
        "id": "BxExSkO4CN_4"
      }
    },
    {
      "cell_type": "code",
      "source": [
        "#levando totalmente em conta o enunciado da questão anterior\n",
        "tb_moviesWorstRating = tb_moviesRatingLastDate.sort_values(ascending=True).head(10)\n",
        "display(tb_moviesWorstRating)\n",
        "print('\\n Outra opção \\n')\n",
        "#levando em conta somente a última data da questão anterior\n",
        "#Ou seja, os filmes e notas com as piores notas levando em conta apenas o último dia de avaliacao registrado\n",
        "tb_moviesWorstRatingDate = tb_meanRatingLastDate.sort_values(ascending=True).head(10)\n",
        "display(tb_moviesWorstRatingDate)"
      ],
      "metadata": {
        "colab": {
          "base_uri": "https://localhost:8080/",
          "height": 515
        },
        "id": "vW2zJEdbfcVQ",
        "outputId": "e38ad97e-52bf-4865-8716-7bdba1c1bfe7"
      },
      "execution_count": 117,
      "outputs": [
        {
          "output_type": "display_data",
          "data": {
            "text/plain": [
              "Title\n",
              "Spirited Away                      4.714286\n",
              "Gilmore Girls: Season 3            4.750000\n",
              "The Twilight Zone: Vol. 15         4.750000\n",
              "SpongeBob SquarePants: Season 3    4.750000\n",
              "Pete's Dragon                      4.750000\n",
              "Absolutely Fabulous: Series 2      4.750000\n",
              "The Twilight Zone: Vol. 41         4.750000\n",
              "An Evening With Kevin Smith        4.750000\n",
              "Curb Your Enthusiasm: Season 3     4.800000\n",
              "In the Mood for Love               4.800000\n",
              "Name: Rating, dtype: float64"
            ]
          },
          "metadata": {}
        },
        {
          "output_type": "stream",
          "name": "stdout",
          "text": [
            "\n",
            " Outra opção \n",
            "\n"
          ]
        },
        {
          "output_type": "display_data",
          "data": {
            "text/plain": [
              "Title\n",
              "The Muse                                                1.0\n",
              "Fade to Black                                           1.0\n",
              "Grand Theft Parsons                                     1.0\n",
              "Commanding Heights: The Battle for the World Economy    1.0\n",
              "Convict 762                                             1.0\n",
              "Cop and a Half                                          1.0\n",
              "I Love Lucy: Season 2                                   1.0\n",
              "Angel Sanctuary                                         1.0\n",
              "The Closet                                              1.0\n",
              "Slam                                                    1.0\n",
              "Name: Rating, dtype: float64"
            ]
          },
          "metadata": {}
        }
      ]
    },
    {
      "cell_type": "markdown",
      "source": [
        "*Questão 1.6 - id's dos 5 customer que mais avaliaram filmes e quantas avaliações cada um\n",
        "fez?*"
      ],
      "metadata": {
        "id": "E20EZ-lBit0w"
      }
    },
    {
      "cell_type": "code",
      "source": [
        "#com pivot\n",
        "tb_topCustomers = pd.pivot_table(tb_movie_rating, index=['Cust_Id'], values=['Rating'], aggfunc=len).sort_values(by='Rating', ascending=False).head(5)\n",
        "display(tb_topCustomers)\n",
        "\n",
        "#'Teste'\n",
        "#tt = tb_movie_rating.loc[tb_movie_rating['Cust_Id'] == 2649421] #305344\n",
        "#tb_topCustomers2 = pd.pivot_table(tb_movie_rating, index=['Cust_Id'], values=['Rating'], aggfunc=len)\n",
        "#tt2 = tb_topCustomers2.query('Cust_Id == [2649421]') #305344\n",
        "#display(tt)\n",
        "#display(tt2)"
      ],
      "metadata": {
        "colab": {
          "base_uri": "https://localhost:8080/",
          "height": 237
        },
        "id": "6-hJSB_6Rb43",
        "outputId": "9d1f1eaa-3bac-4171-c32c-ee88cc0e8a1b"
      },
      "execution_count": 118,
      "outputs": [
        {
          "output_type": "display_data",
          "data": {
            "text/plain": [
              "         Rating\n",
              "Cust_Id        \n",
              "305344     4467\n",
              "387418     4422\n",
              "2439493    4195\n",
              "1664010    4019\n",
              "2118461    3769"
            ],
            "text/html": [
              "\n",
              "  <div id=\"df-a1321fff-5200-44c3-82fd-964e46386f91\">\n",
              "    <div class=\"colab-df-container\">\n",
              "      <div>\n",
              "<style scoped>\n",
              "    .dataframe tbody tr th:only-of-type {\n",
              "        vertical-align: middle;\n",
              "    }\n",
              "\n",
              "    .dataframe tbody tr th {\n",
              "        vertical-align: top;\n",
              "    }\n",
              "\n",
              "    .dataframe thead th {\n",
              "        text-align: right;\n",
              "    }\n",
              "</style>\n",
              "<table border=\"1\" class=\"dataframe\">\n",
              "  <thead>\n",
              "    <tr style=\"text-align: right;\">\n",
              "      <th></th>\n",
              "      <th>Rating</th>\n",
              "    </tr>\n",
              "    <tr>\n",
              "      <th>Cust_Id</th>\n",
              "      <th></th>\n",
              "    </tr>\n",
              "  </thead>\n",
              "  <tbody>\n",
              "    <tr>\n",
              "      <th>305344</th>\n",
              "      <td>4467</td>\n",
              "    </tr>\n",
              "    <tr>\n",
              "      <th>387418</th>\n",
              "      <td>4422</td>\n",
              "    </tr>\n",
              "    <tr>\n",
              "      <th>2439493</th>\n",
              "      <td>4195</td>\n",
              "    </tr>\n",
              "    <tr>\n",
              "      <th>1664010</th>\n",
              "      <td>4019</td>\n",
              "    </tr>\n",
              "    <tr>\n",
              "      <th>2118461</th>\n",
              "      <td>3769</td>\n",
              "    </tr>\n",
              "  </tbody>\n",
              "</table>\n",
              "</div>\n",
              "      <button class=\"colab-df-convert\" onclick=\"convertToInteractive('df-a1321fff-5200-44c3-82fd-964e46386f91')\"\n",
              "              title=\"Convert this dataframe to an interactive table.\"\n",
              "              style=\"display:none;\">\n",
              "        \n",
              "  <svg xmlns=\"http://www.w3.org/2000/svg\" height=\"24px\"viewBox=\"0 0 24 24\"\n",
              "       width=\"24px\">\n",
              "    <path d=\"M0 0h24v24H0V0z\" fill=\"none\"/>\n",
              "    <path d=\"M18.56 5.44l.94 2.06.94-2.06 2.06-.94-2.06-.94-.94-2.06-.94 2.06-2.06.94zm-11 1L8.5 8.5l.94-2.06 2.06-.94-2.06-.94L8.5 2.5l-.94 2.06-2.06.94zm10 10l.94 2.06.94-2.06 2.06-.94-2.06-.94-.94-2.06-.94 2.06-2.06.94z\"/><path d=\"M17.41 7.96l-1.37-1.37c-.4-.4-.92-.59-1.43-.59-.52 0-1.04.2-1.43.59L10.3 9.45l-7.72 7.72c-.78.78-.78 2.05 0 2.83L4 21.41c.39.39.9.59 1.41.59.51 0 1.02-.2 1.41-.59l7.78-7.78 2.81-2.81c.8-.78.8-2.07 0-2.86zM5.41 20L4 18.59l7.72-7.72 1.47 1.35L5.41 20z\"/>\n",
              "  </svg>\n",
              "      </button>\n",
              "      \n",
              "  <style>\n",
              "    .colab-df-container {\n",
              "      display:flex;\n",
              "      flex-wrap:wrap;\n",
              "      gap: 12px;\n",
              "    }\n",
              "\n",
              "    .colab-df-convert {\n",
              "      background-color: #E8F0FE;\n",
              "      border: none;\n",
              "      border-radius: 50%;\n",
              "      cursor: pointer;\n",
              "      display: none;\n",
              "      fill: #1967D2;\n",
              "      height: 32px;\n",
              "      padding: 0 0 0 0;\n",
              "      width: 32px;\n",
              "    }\n",
              "\n",
              "    .colab-df-convert:hover {\n",
              "      background-color: #E2EBFA;\n",
              "      box-shadow: 0px 1px 2px rgba(60, 64, 67, 0.3), 0px 1px 3px 1px rgba(60, 64, 67, 0.15);\n",
              "      fill: #174EA6;\n",
              "    }\n",
              "\n",
              "    [theme=dark] .colab-df-convert {\n",
              "      background-color: #3B4455;\n",
              "      fill: #D2E3FC;\n",
              "    }\n",
              "\n",
              "    [theme=dark] .colab-df-convert:hover {\n",
              "      background-color: #434B5C;\n",
              "      box-shadow: 0px 1px 3px 1px rgba(0, 0, 0, 0.15);\n",
              "      filter: drop-shadow(0px 1px 2px rgba(0, 0, 0, 0.3));\n",
              "      fill: #FFFFFF;\n",
              "    }\n",
              "  </style>\n",
              "\n",
              "      <script>\n",
              "        const buttonEl =\n",
              "          document.querySelector('#df-a1321fff-5200-44c3-82fd-964e46386f91 button.colab-df-convert');\n",
              "        buttonEl.style.display =\n",
              "          google.colab.kernel.accessAllowed ? 'block' : 'none';\n",
              "\n",
              "        async function convertToInteractive(key) {\n",
              "          const element = document.querySelector('#df-a1321fff-5200-44c3-82fd-964e46386f91');\n",
              "          const dataTable =\n",
              "            await google.colab.kernel.invokeFunction('convertToInteractive',\n",
              "                                                     [key], {});\n",
              "          if (!dataTable) return;\n",
              "\n",
              "          const docLinkHtml = 'Like what you see? Visit the ' +\n",
              "            '<a target=\"_blank\" href=https://colab.research.google.com/notebooks/data_table.ipynb>data table notebook</a>'\n",
              "            + ' to learn more about interactive tables.';\n",
              "          element.innerHTML = '';\n",
              "          dataTable['output_type'] = 'display_data';\n",
              "          await google.colab.output.renderOutput(dataTable, element);\n",
              "          const docLink = document.createElement('div');\n",
              "          docLink.innerHTML = docLinkHtml;\n",
              "          element.appendChild(docLink);\n",
              "        }\n",
              "      </script>\n",
              "    </div>\n",
              "  </div>\n",
              "  "
            ]
          },
          "metadata": {}
        }
      ]
    }
  ]
}